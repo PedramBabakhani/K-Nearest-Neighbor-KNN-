{
 "cells": [
  {
   "cell_type": "markdown",
   "metadata": {},
   "source": [
    "# Implement K-Nearest Neighbor (KNN) "
   ]
  },
  {
   "cell_type": "code",
   "execution_count": 3,
   "metadata": {},
   "outputs": [],
   "source": [
    "import pandas as pd\n",
    "import numpy as np\n",
    "import sklearn as skl\n",
    "import math\n",
    "import matplotlib.pyplot as plt"
   ]
  },
  {
   "cell_type": "code",
   "execution_count": 4,
   "metadata": {},
   "outputs": [
    {
     "ename": "NameError",
     "evalue": "name 'pandas' is not defined",
     "output_type": "error",
     "traceback": [
      "\u001b[1;31m---------------------------------------------------------------------------\u001b[0m",
      "\u001b[1;31mNameError\u001b[0m                                 Traceback (most recent call last)",
      "\u001b[1;32m<ipython-input-4-8e50746bb4c7>\u001b[0m in \u001b[0;36m<module>\u001b[1;34m\u001b[0m\n\u001b[0;32m      1\u001b[0m \u001b[0murl\u001b[0m \u001b[1;33m=\u001b[0m \u001b[1;34m\"https://raw.githubusercontent.com/jbrownlee/Datasets/master/iris.csv\"\u001b[0m\u001b[1;33m\u001b[0m\u001b[1;33m\u001b[0m\u001b[0m\n\u001b[0;32m      2\u001b[0m \u001b[0mnames\u001b[0m \u001b[1;33m=\u001b[0m \u001b[1;33m[\u001b[0m\u001b[1;34m'sepal-length'\u001b[0m\u001b[1;33m,\u001b[0m \u001b[1;34m'sepal-width'\u001b[0m\u001b[1;33m,\u001b[0m \u001b[1;34m'petal-length'\u001b[0m\u001b[1;33m,\u001b[0m \u001b[1;34m'petal-width'\u001b[0m\u001b[1;33m,\u001b[0m \u001b[1;34m'class'\u001b[0m\u001b[1;33m]\u001b[0m\u001b[1;33m\u001b[0m\u001b[1;33m\u001b[0m\u001b[0m\n\u001b[1;32m----> 3\u001b[1;33m \u001b[0mdataset\u001b[0m \u001b[1;33m=\u001b[0m \u001b[0mpandas\u001b[0m\u001b[1;33m.\u001b[0m\u001b[0mread_csv\u001b[0m\u001b[1;33m(\u001b[0m\u001b[0murl\u001b[0m\u001b[1;33m,\u001b[0m \u001b[0mnames\u001b[0m\u001b[1;33m=\u001b[0m\u001b[0mnames\u001b[0m\u001b[1;33m)\u001b[0m\u001b[1;33m\u001b[0m\u001b[1;33m\u001b[0m\u001b[0m\n\u001b[0m\u001b[0;32m      4\u001b[0m \u001b[1;31m#data.columns=[\"sepal length\",\"sepal width\",\"petal length\",\"petal width\",\"class\"]\u001b[0m\u001b[1;33m\u001b[0m\u001b[1;33m\u001b[0m\u001b[1;33m\u001b[0m\u001b[0m\n\u001b[0;32m      5\u001b[0m \u001b[0mdata\u001b[0m\u001b[1;33m.\u001b[0m\u001b[0mhead\u001b[0m\u001b[1;33m(\u001b[0m\u001b[1;33m)\u001b[0m\u001b[1;33m\u001b[0m\u001b[1;33m\u001b[0m\u001b[0m\n",
      "\u001b[1;31mNameError\u001b[0m: name 'pandas' is not defined"
     ]
    }
   ],
   "source": [
    "url = \"https://raw.githubusercontent.com/jbrownlee/Datasets/master/iris.csv\"\n",
    "names = ['sepal-length', 'sepal-width', 'petal-length', 'petal-width', 'class']\n",
    "dataset = pandas.read_csv(url, names=names)\n",
    "#data.columns=[\"sepal length\",\"sepal width\",\"petal length\",\"petal width\",\"class\"]\n",
    "data.head()"
   ]
  },
  {
   "cell_type": "code",
   "execution_count": 305,
   "metadata": {},
   "outputs": [],
   "source": [
    "data_train = data.sample(frac=0.8, random_state=1)\n",
    "data_test = data.drop(data_train.index)\n",
    "data_train.reset_index(drop=True,inplace=True)\n",
    "data_test.reset_index(drop=True,inplace=True)"
   ]
  },
  {
   "cell_type": "code",
   "execution_count": 307,
   "metadata": {},
   "outputs": [],
   "source": [
    "#seprate trainset to X and Y\n",
    "data_train_X = data_train.drop([\"class\"], axis=1) \n",
    "data_train_Y = data_train[[\"class\"]]\n",
    "data_train_X = data_train_X.as_matrix()\n",
    "data_train_Y = data_train_Y.as_matrix()\n",
    "\n",
    "# #seprate testset to X and Y\n",
    "data_test_X = data_test.drop([\"class\"], axis=1)\n",
    "data_test_Y =data_test[[\"class\"]]\n",
    "data_test_X = data_test_X.as_matrix()\n",
    "data_test_Y = data_test_Y.as_matrix()"
   ]
  },
  {
   "cell_type": "code",
   "execution_count": 415,
   "metadata": {},
   "outputs": [],
   "source": [
    "from operator import itemgetter\n",
    "\n",
    "def KNN(data_train_X,data_train_Y, data_test_X, K):\n",
    "    data_predicted_Y = []\n",
    "    for i in range(len(data_test_X)):\n",
    "        distance =[]\n",
    "        knn = []\n",
    "        for j in range(len(data_train_X)):\n",
    "            virginica = 0 \n",
    "            versicolor = 0\n",
    "            setosa = 0\n",
    "            eu_dist = np.sqrt(np.sum((data_test_X[i]-data_train_X[j])**2)) #ecliudean distance\n",
    "            distance.append(( data_train_Y[j] , eu_dist)) \n",
    "            distance.sort(key = itemgetter(1)) #sort based on distance\n",
    "            knn = distance[:K] # first k elements, K number of nearest neighbours    \n",
    "        #vote to classes(which class this data belongs to?)\n",
    "        for k in knn:\n",
    "            if k[0] =='Iris-setosa':\n",
    "                setosa += 1\n",
    "            elif k[0] =='Iris-versicolor':\n",
    "                versicolor +=1\n",
    "            else:\n",
    "                virginica += 1\n",
    "        if versicolor == max( virginica, versicolor, setosa) :\n",
    "            data_predicted_Y.append('Iris-versicolor')\n",
    "        elif setosa == max( virginica, versicolor, setosa) :\n",
    "            data_predicted_Y.append('Iris-setosa')\n",
    "        else:\n",
    "            data_predicted_Y.append('Iris-virginica')\n",
    "    return data_predicted_Y"
   ]
  },
  {
   "cell_type": "code",
   "execution_count": 423,
   "metadata": {
    "collapsed": true
   },
   "outputs": [],
   "source": [
    "# my criterion for accuracy, accuracy= (number of correct predictions)/(number of all predictions)"
   ]
  },
  {
   "cell_type": "code",
   "execution_count": 424,
   "metadata": {
    "collapsed": true
   },
   "outputs": [],
   "source": [
    "def accuracy (data_test,data_predicted):\n",
    "    correct = 0\n",
    "    for i in range(len(data_test)):\n",
    "        if(data_test[i] == data_predicted[i]): #comparing prediction with real data \n",
    "            correct +=1 #count number of correct predictions\n",
    "    return correct/len(data_test) # number of correct predictions/ number of all predictions"
   ]
  },
  {
   "cell_type": "markdown",
   "metadata": {},
   "source": [
    "Apply KNN function when K=3"
   ]
  },
  {
   "cell_type": "code",
   "execution_count": 425,
   "metadata": {},
   "outputs": [],
   "source": [
    "data_predicted_Y = KNN(data_train_X,data_train_Y, data_test_X, K=3)"
   ]
  },
  {
   "cell_type": "code",
   "execution_count": 426,
   "metadata": {},
   "outputs": [
    {
     "name": "stdout",
     "output_type": "stream",
     "text": [
      "Classification Result by KNN: \n",
      "['Iris-setosa', 'Iris-setosa', 'Iris-setosa', 'Iris-setosa', 'Iris-setosa', 'Iris-setosa', 'Iris-setosa', 'Iris-setosa', 'Iris-setosa', 'Iris-setosa', 'Iris-versicolor', 'Iris-versicolor', 'Iris-versicolor', 'Iris-versicolor', 'Iris-versicolor', 'Iris-versicolor', 'Iris-versicolor', 'Iris-virginica', 'Iris-versicolor', 'Iris-versicolor', 'Iris-versicolor', 'Iris-versicolor', 'Iris-versicolor', 'Iris-virginica', 'Iris-virginica', 'Iris-virginica', 'Iris-virginica', 'Iris-virginica', 'Iris-virginica', 'Iris-virginica']\n"
     ]
    }
   ],
   "source": [
    "print(\"Classification Result by KNN: \")\n",
    "print(data_predicted_Y)"
   ]
  },
  {
   "cell_type": "code",
   "execution_count": 427,
   "metadata": {},
   "outputs": [
    {
     "name": "stdout",
     "output_type": "stream",
     "text": [
      "Accuracy= %96.66666666666667\n"
     ]
    }
   ],
   "source": [
    "Accuracy = accuracy(data_test_Y,data_predicted_Y) \n",
    "print(\"Accuracy= %\"+str(Accuracy*100.0))"
   ]
  },
  {
   "cell_type": "markdown",
   "metadata": {},
   "source": [
    "# Optimize and Compare KNN algorithm"
   ]
  },
  {
   "cell_type": "markdown",
   "metadata": {},
   "source": [
    "Part a)"
   ]
  },
  {
   "cell_type": "markdown",
   "metadata": {},
   "source": [
    "Lets run KNN for different values of K"
   ]
  },
  {
   "cell_type": "code",
   "execution_count": 430,
   "metadata": {},
   "outputs": [
    {
     "name": "stdout",
     "output_type": "stream",
     "text": [
      "K= 2 Accuracy= 90.0\n",
      "K= 3 Accuracy= 96.66666666666667\n",
      "K= 5 Accuracy= 96.66666666666667\n",
      "K= 7 Accuracy= 96.66666666666667\n",
      "K= 9 Accuracy= 100.0\n"
     ]
    }
   ],
   "source": [
    "K_value = [2,3,5,7,9]\n",
    "\n",
    "Accuracy_K = []\n",
    "for K in K_value:\n",
    "    data_predicted_Y = KNN(data_train_X,data_train_Y, data_test_X, K)\n",
    "    Accuracy = accuracy(data_test_Y,data_predicted_Y)\n",
    "    Accuracy_K.append(Accuracy)\n",
    "    print(\"K= \"+str(K),\"Accuracy= \"+str(Accuracy*100.0))"
   ]
  },
  {
   "cell_type": "code",
   "execution_count": 431,
   "metadata": {},
   "outputs": [
    {
     "data": {
      "image/png": "[encoded data removed]",
      "text/plain": [
       "<matplotlib.figure.Figure at 0x1b7303e9a20>"
      ]
     },
     "metadata": {},
     "output_type": "display_data"
    }
   ],
   "source": [
    "plt.plot(K_value, np.dot(Accuracy_K,100.0),'r')\n",
    "plt.title(\"K vs Accuracy\")\n",
    "plt.xlabel(\"K\")\n",
    "plt.ylabel(\"Accuracy\")\n",
    "plt.show()"
   ]
  },
  {
   "cell_type": "markdown",
   "metadata": {},
   "source": [
    "As we saw in graph (K vs Accuracy), when k=9, accuracy is %100 then it means k=9 is the best k for our model."
   ]
  },
  {
   "cell_type": "raw",
   "metadata": {
    "collapsed": true
   },
   "source": [
    "Finding best depth for decesion tree"
   ]
  },
  {
   "cell_type": "code",
   "execution_count": 436,
   "metadata": {},
   "outputs": [
    {
     "data": {
      "text/plain": [
       "{'max_depth': 2}"
      ]
     },
     "execution_count": 436,
     "metadata": {},
     "output_type": "execute_result"
    }
   ],
   "source": [
    "from sklearn.tree import DecisionTreeClassifier\n",
    "from sklearn.model_selection import GridSearchCV\n",
    "\n",
    "\n",
    "param_grid = {'max_depth': np.arange(1, 10)} #depth of decision tree is hyperparameter\n",
    "DTC = GridSearchCV(DecisionTreeClassifier(), param_grid)\n",
    "DTC.fit(data_train_X, data_train_Y)\n",
    "data_predicted_Y = DTC.predict_proba(data_test_X)\n",
    "DTC.best_params_"
   ]
  },
  {
   "cell_type": "code",
   "execution_count": 368,
   "metadata": {},
   "outputs": [
    {
     "name": "stdout",
     "output_type": "stream",
     "text": [
      "['Iris-setosa' 'Iris-setosa' 'Iris-setosa' 'Iris-setosa' 'Iris-setosa'\n",
      " 'Iris-setosa' 'Iris-setosa' 'Iris-setosa' 'Iris-setosa' 'Iris-setosa'\n",
      " 'Iris-versicolor' 'Iris-versicolor' 'Iris-versicolor' 'Iris-versicolor'\n",
      " 'Iris-versicolor' 'Iris-versicolor' 'Iris-versicolor' 'Iris-versicolor'\n",
      " 'Iris-versicolor' 'Iris-versicolor' 'Iris-versicolor' 'Iris-versicolor'\n",
      " 'Iris-versicolor' 'Iris-virginica' 'Iris-virginica' 'Iris-versicolor'\n",
      " 'Iris-versicolor' 'Iris-versicolor' 'Iris-virginica' 'Iris-virginica']\n",
      "Accuracy= 0.9\n"
     ]
    }
   ],
   "source": [
    "#MAx_depth = 2\n",
    "DTC =  DecisionTreeClassifier(max_depth=2)\n",
    "DTC.fit(data_train_X, data_train_Y)\n",
    "data_predicted_Y = DTC.predict(data_test_X)\n",
    "print(data_predicted_Y)\n",
    "Accuracy = accuracy(data_test_Y,data_predicted_Y)\n",
    "Accuracy_K.append(Accuracy)\n",
    "print(\"Accuracy= \"+str(Accuracy))"
   ]
  },
  {
   "cell_type": "code",
   "execution_count": 372,
   "metadata": {
    "collapsed": true
   },
   "outputs": [],
   "source": [
    "#finding best K for K nearest neighbour"
   ]
  },
  {
   "cell_type": "code",
   "execution_count": 437,
   "metadata": {},
   "outputs": [
    {
     "data": {
      "text/plain": [
       "{'n_neighbors': 9}"
      ]
     },
     "execution_count": 437,
     "metadata": {},
     "output_type": "execute_result"
    }
   ],
   "source": [
    "from sklearn.neighbors import KNeighborsClassifier\n",
    "from sklearn.model_selection import GridSearchCV\n",
    "\n",
    "\n",
    "param_grid = {'n_neighbors': np.arange(1, 10)}\n",
    "\n",
    "KNN = GridSearchCV(KNeighborsClassifier(), param_grid)\n",
    "KNN.fit(data_train_X, data_train_Y.ravel())\n",
    "data_predicted_Y = KNN.predict_proba(data_test_X)\n",
    "KNN.best_params_"
   ]
  },
  {
   "cell_type": "markdown",
   "metadata": {},
   "source": [
    "Also in my KNN implementation accuracy was %100 when k=9."
   ]
  },
  {
   "cell_type": "code",
   "execution_count": 440,
   "metadata": {},
   "outputs": [
    {
     "name": "stdout",
     "output_type": "stream",
     "text": [
      "['Iris-setosa' 'Iris-setosa' 'Iris-setosa' 'Iris-setosa' 'Iris-setosa'\n",
      " 'Iris-setosa' 'Iris-setosa' 'Iris-setosa' 'Iris-setosa' 'Iris-setosa'\n",
      " 'Iris-versicolor' 'Iris-versicolor' 'Iris-versicolor' 'Iris-versicolor'\n",
      " 'Iris-versicolor' 'Iris-versicolor' 'Iris-versicolor' 'Iris-versicolor'\n",
      " 'Iris-versicolor' 'Iris-versicolor' 'Iris-versicolor' 'Iris-versicolor'\n",
      " 'Iris-versicolor' 'Iris-virginica' 'Iris-virginica' 'Iris-virginica'\n",
      " 'Iris-virginica' 'Iris-virginica' 'Iris-virginica' 'Iris-virginica']\n",
      "Accuracy= %100.0\n"
     ]
    }
   ],
   "source": [
    "#K = 9\n",
    "knn = KNeighborsClassifier(n_neighbors=9)\n",
    "knn.fit(data_train_X, data_train_Y.ravel())\n",
    "data_predicted_Y = knn.predict(data_test_X)\n",
    "print(data_predicted_Y)\n",
    "Accuracy = accuracy(data_test_Y,data_predicted_Y)\n",
    "Accuracy_K.append(Accuracy)\n",
    "print(\"Accuracy= %\"+str(Accuracy*100.0))"
   ]
  },
  {
   "cell_type": "markdown",
   "metadata": {},
   "source": [
    "Optimized Decision tree accuracy= %90\n",
    "\n",
    "Optimized K nearest neighbours = %100"
   ]
  }
 ],
 "metadata": {
  "kernelspec": {
   "display_name": "Python 3",
   "language": "python",
   "name": "python3"
  },
  "language_info": {
   "codemirror_mode": {
    "name": "ipython",
    "version": 3
   },
   "file_extension": ".py",
   "mimetype": "text/x-python",
   "name": "python",
   "nbconvert_exporter": "python",
   "pygments_lexer": "ipython3",
   "version": "3.7.3"
  }
 },
 "nbformat": 4,
 "nbformat_minor": 2
}
